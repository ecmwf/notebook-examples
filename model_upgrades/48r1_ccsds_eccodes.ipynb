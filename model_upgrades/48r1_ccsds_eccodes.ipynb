{
 "cells": [
  {
   "attachments": {
    "f7b0801c-f593-4b71-ae2e-60e5f1f7d2c6.png": {
     "image/png": "[encoded data removed]"
    }
   },
   "cell_type": "markdown",
   "id": "1c3ef1cc-72fc-44ec-b7d3-d707dab0e7f6",
   "metadata": {},
   "source": [
    "![ECMWF_Master_Logo_RGB.png](attachment:f7b0801c-f593-4b71-ae2e-60e5f1f7d2c6.png)\n",
    "# CCSDS compression in ECMWF Real-time open data \n",
    "Authors Milana Vučković and Shahram Najm"
   ]
  },
  {
   "cell_type": "markdown",
   "id": "519335b5-fb2d-42fd-b0b1-5ff5fc268863",
   "metadata": {},
   "source": [
    "In June 2023 ECMWF will update its IFS forecast model to version 48r1. This is a major model change with several updates which are described [here](https://confluence.ecmwf.int/display/FCST/Implementation+of+IFS+Cycle+48r1).  \n",
    "\n",
    "With 48r1 all **gridded GRIB2 \"raw\"** data will use the [new CCSDS packing type](https://codes.ecmwf.int/grib/format/grib2/templates/5/42/).  \n",
    "The end users will not see any change as long as they use **the latest version of ecCodes** library."
   ]
  },
  {
   "cell_type": "markdown",
   "id": "7a423c53-90b5-4ea1-abb4-5767d9eb6a64",
   "metadata": {},
   "source": [
    "## Libraries to download and work with GRIB data\n",
    "\n",
    "There are many tools to work with GRIB data. Here you will find how to inspect new ECMWF open data using [**ecCodes**](https://confluence.ecmwf.int/display/ECC/ecCodes+Home) Python library.  \n",
    "\n",
    "If you are looking at this notebook on MyBinder, it should be already installed. \n",
    "\n",
    "If you are using this notebook individually and don't have ecCodes and [**ecmwf.opendata**](https://github.com/ecmwf/ecmwf-opendata) Client, please use the next cell to install them."
   ]
  },
  {
   "cell_type": "code",
   "execution_count": null,
   "id": "de83cf1b-be9a-4f09-83be-3529bab10819",
   "metadata": {
    "jupyter": {
     "source_hidden": true
    },
    "tags": []
   },
   "outputs": [],
   "source": [
    "#!pip install ecmwf-opendata eccodes"
   ]
  },
  {
   "cell_type": "markdown",
   "id": "8a836527-806a-4ef4-83fe-412ece165d6a",
   "metadata": {},
   "source": [
    "We can now import open data api client and eccodes.  \n",
    "<div class=\"alert alert-block alert-info\">\n",
    "<b>Note:</b> Make sure that you have <b>ecCodes version 2.15</b> or higher for the decoding of grib data, otherwise it will not work.\n",
    "</div>"
   ]
  },
  {
   "cell_type": "code",
   "execution_count": 1,
   "id": "682e7807-d303-4b16-9af6-62ed58546ca6",
   "metadata": {},
   "outputs": [
    {
     "name": "stdout",
     "output_type": "stream",
     "text": [
      "Found: ecCodes v2.27.0\n"
     ]
    }
   ],
   "source": [
    "from ecmwf.opendata import Client\n",
    "from eccodes import *\n",
    "\n",
    "version = codes_get_api_version()\n",
    "print(f\"Found: ecCodes v{version}\")"
   ]
  },
  {
   "cell_type": "markdown",
   "id": "c05ebdbe-00b0-4729-8cfd-854de5d5d9e0",
   "metadata": {},
   "source": [
    "## Download data\n",
    "\n",
    "To download test (esuite) data, set the source to '**ecmwf-esuites**'"
   ]
  },
  {
   "cell_type": "code",
   "execution_count": 2,
   "id": "c929b942-f4bf-4106-95da-e800587747da",
   "metadata": {},
   "outputs": [],
   "source": [
    "client = Client(\"ecmwf-esuites\", beta=True)"
   ]
  },
  {
   "cell_type": "code",
   "execution_count": 3,
   "id": "69a6957e-fa93-40e2-a51d-bf97c3637a15",
   "metadata": {},
   "outputs": [],
   "source": [
    "INPUT = \"ccsds.grib2\"\n",
    "OUTPUT = \"simple.grib2\""
   ]
  },
  {
   "cell_type": "markdown",
   "id": "24ec660b-55cb-458a-8a45-eea0f754d124",
   "metadata": {},
   "source": [
    "Test forecast is usually available a bit late, so just in case you are running this early in the morning, let's set the date parameter to yesterday.  \n",
    "This is still experimental data, so if the data is not available, set the date to a few days ago."
   ]
  },
  {
   "cell_type": "code",
   "execution_count": 4,
   "id": "179f75fe-8ff6-4ca6-a66a-e296f61f32ea",
   "metadata": {},
   "outputs": [
    {
     "data": {
      "application/vnd.jupyter.widget-view+json": {
       "model_id": "",
       "version_major": 2,
       "version_minor": 0
      },
      "text/plain": [
       "20230328000000-12h-oper-fc.grib2:   0%|          | 0.00/249k [00:00<?, ?B/s]"
      ]
     },
     "metadata": {},
     "output_type": "display_data"
    },
    {
     "data": {
      "text/plain": [
       "<ecmwf.opendata.client.Result at 0x7fe401868f40>"
      ]
     },
     "execution_count": 4,
     "metadata": {},
     "output_type": "execute_result"
    }
   ],
   "source": [
    "client.retrieve(\n",
    "    date=-2,\n",
    "    time=0,\n",
    "    step=12,\n",
    "    stream=\"oper\",\n",
    "    type=\"fc\",\n",
    "    levtype=\"pl\",\n",
    "    levelist=[850],\n",
    "    param='t',\n",
    "    target=INPUT\n",
    ")"
   ]
  },
  {
   "cell_type": "markdown",
   "id": "276890a8-39e1-4969-9d05-3cac2eabd3d4",
   "metadata": {},
   "source": [
    "## Inspect the data\n",
    "First we open the data we have just downloaded and check the packing type."
   ]
  },
  {
   "cell_type": "code",
   "execution_count": 5,
   "id": "8292857c-3c66-4b3d-9129-b91003536400",
   "metadata": {},
   "outputs": [],
   "source": [
    "f = open(INPUT, \"rb\")"
   ]
  },
  {
   "cell_type": "code",
   "execution_count": 6,
   "id": "f6b507fc-592a-4f63-a483-fc404aec29ce",
   "metadata": {},
   "outputs": [
    {
     "name": "stdout",
     "output_type": "stream",
     "text": [
      "packingType = grid_ccsds\n"
     ]
    }
   ],
   "source": [
    "gid = codes_grib_new_from_file(f)\n",
    "print(f'packingType = {codes_get(gid, \"packingType\")}')"
   ]
  },
  {
   "cell_type": "markdown",
   "id": "20a3a043-9fa1-4a36-a528-a9ef3cb763eb",
   "metadata": {},
   "source": [
    "Let's now inspect some values."
   ]
  },
  {
   "cell_type": "code",
   "execution_count": 7,
   "id": "c89e63f5-c616-46c3-8641-dfc2ec516c84",
   "metadata": {},
   "outputs": [
    {
     "name": "stdout",
     "output_type": "stream",
     "text": [
      "(1, 252.99560546875)\n",
      "(101, 252.99560546875)\n",
      "(201, 252.99560546875)\n",
      "(301, 252.99560546875)\n",
      "(401, 252.99560546875)\n",
      "(501, 252.99560546875)\n",
      "(601, 252.99560546875)\n",
      "(701, 252.99560546875)\n",
      "(801, 252.99560546875)\n",
      "(901, 253.40185546875)\n",
      "(1001, 253.08935546875)\n",
      "(1101, 253.18310546875)\n",
      "(1201, 253.83935546875)\n",
      "(1301, 254.43310546875)\n",
      "(1401, 254.33935546875)\n",
      "(1501, 253.58935546875)\n",
      "(1601, 253.02685546875)\n",
      "(1701, 253.21435546875)\n",
      "(1801, 254.46435546875)\n",
      "(1901, 253.65185546875)\n"
     ]
    }
   ],
   "source": [
    "values_ccsds = codes_get_values(gid)\n",
    "num_vals = len(values_ccsds)\n",
    "for i in range(0,2000,100):\n",
    "    print((i + 1, values_ccsds[i]))"
   ]
  },
  {
   "cell_type": "code",
   "execution_count": 8,
   "id": "02438b6a-0f50-4772-ace8-7e800ecea490",
   "metadata": {},
   "outputs": [
    {
     "name": "stdout",
     "output_type": "stream",
     "text": [
      "405900 values found in ccsds.grib2\n"
     ]
    }
   ],
   "source": [
    "print(f\"{num_vals} values found in {INPUT}\")"
   ]
  },
  {
   "cell_type": "markdown",
   "id": "35f7882e-d2e4-46f2-8b2f-b46c18183d65",
   "metadata": {},
   "source": [
    "We can check what happens if we convert to simple packing. It is two lines of code to convert using eccodes."
   ]
  },
  {
   "cell_type": "code",
   "execution_count": 9,
   "id": "26d16970-9803-41a5-9451-1042128f49ef",
   "metadata": {},
   "outputs": [
    {
     "name": "stdout",
     "output_type": "stream",
     "text": [
      "packingType = grid_simple\n"
     ]
    }
   ],
   "source": [
    "codes_set(gid, \"packingType\", \"grid_simple\")\n",
    "codes_set_values(gid, values_ccsds)\n",
    "\n",
    "print(f'packingType = {codes_get(gid, \"packingType\")}')"
   ]
  },
  {
   "cell_type": "markdown",
   "id": "776d04c4-9984-461a-bee5-bbf9939548d6",
   "metadata": {},
   "source": [
    "Just to make sure our values didn't change, we can print the same points again."
   ]
  },
  {
   "cell_type": "code",
   "execution_count": 10,
   "id": "a072ff0a-54ee-4575-8b8c-add26bf91e08",
   "metadata": {},
   "outputs": [
    {
     "name": "stdout",
     "output_type": "stream",
     "text": [
      "(1, 252.99560546875)\n",
      "(101, 252.99560546875)\n",
      "(201, 252.99560546875)\n",
      "(301, 252.99560546875)\n",
      "(401, 252.99560546875)\n",
      "(501, 252.99560546875)\n",
      "(601, 252.99560546875)\n",
      "(701, 252.99560546875)\n",
      "(801, 252.99560546875)\n",
      "(901, 253.40185546875)\n",
      "(1001, 253.08935546875)\n",
      "(1101, 253.18310546875)\n",
      "(1201, 253.83935546875)\n",
      "(1301, 254.43310546875)\n",
      "(1401, 254.33935546875)\n",
      "(1501, 253.58935546875)\n",
      "(1601, 253.02685546875)\n",
      "(1701, 253.21435546875)\n",
      "(1801, 254.46435546875)\n",
      "(1901, 253.65185546875)\n"
     ]
    }
   ],
   "source": [
    "values_simple = codes_get_values(gid)\n",
    "for i in range(0,2000,100):\n",
    "    print((i + 1, values_simple[i]))"
   ]
  },
  {
   "cell_type": "markdown",
   "id": "d2ace41e-5ee0-40af-a526-6b78ad18d42b",
   "metadata": {},
   "source": [
    "Finally we write the output into new file and close."
   ]
  },
  {
   "cell_type": "code",
   "execution_count": 11,
   "id": "e50625c2-f8cb-4b65-aa8c-2c3161a90a43",
   "metadata": {},
   "outputs": [],
   "source": [
    "fout = open(OUTPUT, \"wb\")\n",
    "codes_write(gid, fout)\n",
    "codes_release(gid)\n",
    "f.close()\n",
    "fout.close()"
   ]
  },
  {
   "cell_type": "markdown",
   "id": "733989d9-db64-49d7-8496-1ca043bc4e3f",
   "metadata": {},
   "source": [
    "Now we can use grib_ls to compare the two files as well.  "
   ]
  },
  {
   "cell_type": "code",
   "execution_count": 12,
   "id": "c152643c-d4bb-4fd2-9f4e-b53f6dc48d22",
   "metadata": {},
   "outputs": [
    {
     "name": "stdout",
     "output_type": "stream",
     "text": [
      "{ \"messages\" : [ \n",
      "  {\n",
      "    \"packingType\": \"grid_ccsds\",\n",
      "    \"max\": 304.089,\n",
      "    \"min\": 233.558,\n",
      "    \"avg\": 273.89\n",
      "  },\n",
      "  {\n",
      "    \"packingType\": \"grid_simple\",\n",
      "    \"max\": 304.089,\n",
      "    \"min\": 233.558,\n",
      "    \"avg\": 273.89\n",
      "  }\n",
      "]}\n"
     ]
    }
   ],
   "source": [
    "!grib_ls -j -p packingType,max,min,avg ccsds.grib2 simple.grib2"
   ]
  },
  {
   "cell_type": "markdown",
   "id": "1e499ea2-90f9-4ffb-b54f-d00a200714b7",
   "metadata": {},
   "source": [
    "We can also compare the size of the files to see the benefit of the compression.  \n",
    "In this case, the simple packed file is double the size of the CCSDS packed one"
   ]
  },
  {
   "cell_type": "code",
   "execution_count": 13,
   "id": "0dcfd60c-5f29-4dac-975b-c3a64c1a365d",
   "metadata": {},
   "outputs": [
    {
     "name": "stdout",
     "output_type": "stream",
     "text": [
      "-rw-r--r--  1 mamv  staff  254950 30 Mar 14:17 ccsds.grib2\n",
      "-rw-r--r--  1 mamv  staff  609046 30 Mar 14:17 simple.grib2\n"
     ]
    }
   ],
   "source": [
    "!ls -l *.grib2"
   ]
  },
  {
   "cell_type": "markdown",
   "id": "71955650-075f-4ca9-9155-50183f7d7ddc",
   "metadata": {},
   "source": [
    "If you are an advanced user, you can have a look at how to do the same things using [**Metview**](https://metview.readthedocs.io/en/latest/index.html) and [**xarray**](https://docs.xarray.dev/en/stable/) in [**this notebook**](ccsds.ipynb)."
   ]
  }
 ],
 "metadata": {
  "kernelspec": {
   "display_name": "Python 3 (ipykernel)",
   "language": "python",
   "name": "python3"
  },
  "language_info": {
   "codemirror_mode": {
    "name": "ipython",
    "version": 3
   },
   "file_extension": ".py",
   "mimetype": "text/x-python",
   "name": "python",
   "nbconvert_exporter": "python",
   "pygments_lexer": "ipython3",
   "version": "3.8.16"
  }
 },
 "nbformat": 4,
 "nbformat_minor": 5
}
